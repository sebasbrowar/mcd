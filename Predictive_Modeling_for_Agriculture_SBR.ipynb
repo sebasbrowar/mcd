{
  "cells": [
    {
      "cell_type": "markdown",
      "metadata": {
        "id": "view-in-github",
        "colab_type": "text"
      },
      "source": [
        "<a href=\"https://colab.research.google.com/github/sebasbrowar/mcd/blob/main/Predictive_Modeling_for_Agriculture_SBR.ipynb\" target=\"_parent\"><img src=\"https://colab.research.google.com/assets/colab-badge.svg\" alt=\"Open In Colab\"/></a>"
      ]
    },
    {
      "source": [
        "# Sowing Success: How Machine Learning Helps Farmers Select the Best Crops\n",
        "\n",
        "![Farmer in a field](farmer_in_a_field.jpg)\n",
        "\n",
        "Measuring essential soil metrics such as nitrogen, phosphorous, potassium levels, and pH value is an important aspect of assessing soil condition. However, it can be an expensive and time-consuming process, which can cause farmers to prioritize which metrics to measure based on their budget constraints.\n",
        "\n",
        "Farmers have various options when it comes to deciding which crop to plant each season. Their primary objective is to maximize the yield of their crops, taking into account different factors. One crucial factor that affects crop growth is the condition of the soil in the field, which can be assessed by measuring basic elements such as nitrogen and potassium levels. Each crop has an ideal soil condition that ensures optimal growth and maximum yield.\n",
        "\n",
        "A farmer reached out to you as a machine learning expert for assistance in selecting the best crop for his field. They've provided you with a dataset called `soil_measures.csv`, which contains:\n",
        "\n",
        "- `\"N\"`: Nitrogen content ratio in the soil\n",
        "- `\"P\"`: Phosphorous content ratio in the soil\n",
        "- `\"K\"`: Potassium content ratio in the soil\n",
        "- `\"pH\"` value of the soil\n",
        "- `\"crop\"`: categorical values that contain various crops (target variable).\n",
        "\n",
        "Each row in this dataset represents various measures of the soil in a particular field. Based on these measurements, the crop specified in the `\"crop\"` column is the optimal choice for that field.  \n",
        "\n",
        "In this project, you will build multi-class classification models to predict the type of `\"crop\"` and identify the single most importance feature for predictive performance."
      ],
      "metadata": {
        "id": "d3d001b0-2e2f-4b58-8442-99520bad831f"
      },
      "id": "d3d001b0-2e2f-4b58-8442-99520bad831f",
      "cell_type": "markdown"
    },
    {
      "source": [
        "# All required libraries are imported here for you.\n",
        "import pandas as pd\n",
        "from sklearn.linear_model import LogisticRegression\n",
        "from sklearn.model_selection import train_test_split, cross_val_score, KFold\n",
        "from sklearn import metrics\n",
        "from sklearn.preprocessing import StandardScaler, LabelEncoder\n",
        "from sklearn.metrics import accuracy_score\n",
        "\n",
        "# Load the dataset\n",
        "crops = pd.read_csv(\"soil_measures.csv\")"
      ],
      "metadata": {
        "id": "d0eb4f16-5a99-460d-a5ba-706b7ef0bbe7",
        "executionTime": 54,
        "lastSuccessfullyExecutedCode": "# All required libraries are imported here for you.\nimport pandas as pd\nfrom sklearn.linear_model import LogisticRegression\nfrom sklearn.model_selection import train_test_split, cross_val_score, KFold\nfrom sklearn import metrics\nfrom sklearn.preprocessing import StandardScaler, LabelEncoder\nfrom sklearn.metrics import accuracy_score\n\n# Load the dataset\ncrops = pd.read_csv(\"soil_measures.csv\")",
        "executionCancelledAt": null,
        "lastExecutedAt": 1739737674142,
        "lastScheduledRunId": null,
        "lastExecutedByKernel": "bd54cf5b-55dd-4f7d-80bd-01ef9475320c",
        "outputsMetadata": {
          "0": {
            "height": 59,
            "type": "stream"
          }
        }
      },
      "id": "d0eb4f16-5a99-460d-a5ba-706b7ef0bbe7",
      "cell_type": "code",
      "execution_count": null,
      "outputs": []
    },
    {
      "source": [
        "X = crops.drop(columns=['crop'])\n",
        "y = crops['crop']\n",
        "\n",
        "# Encode target variable\n",
        "le = LabelEncoder()\n",
        "y = le.fit_transform(y)\n",
        "\n",
        "# Split into training and testing sets\n",
        "X_train, X_test, y_train, y_test = train_test_split(X, y, test_size=0.3, random_state=10)\n",
        "\n",
        "# Dictionary to store feature scores\n",
        "feature_scores = {}\n",
        "\n",
        "# Iterate over each feature to train and evaluate individual models\n",
        "for feature in X.columns:\n",
        "    # Select only one feature\n",
        "    X_train_single = X_train[[feature]]\n",
        "    X_test_single = X_test[[feature]]\n",
        "\n",
        "    # Scale the feature\n",
        "    scaler = StandardScaler()\n",
        "    X_train_scaled = scaler.fit_transform(X_train_single)\n",
        "    X_test_scaled = scaler.transform(X_test_single)\n",
        "\n",
        "    # Train Logistic Regression model\n",
        "    logreg = LogisticRegression(random_state=10)\n",
        "    logreg.fit(X_train_scaled, y_train)\n",
        "\n",
        "    # Evaluate model\n",
        "    y_pred = logreg.predict(X_test_scaled)\n",
        "    accuracy = accuracy_score(y_test, y_pred)\n",
        "\n",
        "    # Store the feature and its score\n",
        "    feature_scores[feature] = accuracy\n",
        "\n",
        "best_feature = max(feature_scores, key=feature_scores.get)\n",
        "best_score = feature_scores[best_feature]\n",
        "\n",
        "# Store in dictionary\n",
        "best_predictive_feature = {best_feature: best_score}\n",
        "\n",
        "print(\"Best predictive feature:\", best_predictive_feature)"
      ],
      "metadata": {
        "executionCancelledAt": null,
        "executionTime": 1616,
        "lastExecutedAt": 1739737675758,
        "lastExecutedByKernel": "bd54cf5b-55dd-4f7d-80bd-01ef9475320c",
        "lastScheduledRunId": null,
        "lastSuccessfullyExecutedCode": "X = crops.drop(columns=['crop'])\ny = crops['crop']\n\n# Encode target variable\nle = LabelEncoder()\ny = le.fit_transform(y)\n\n# Split into training and testing sets\nX_train, X_test, y_train, y_test = train_test_split(X, y, test_size=0.3, random_state=10)\n\n# Dictionary to store feature scores\nfeature_scores = {}\n\n# Iterate over each feature to train and evaluate individual models\nfor feature in X.columns:\n    # Select only one feature\n    X_train_single = X_train[[feature]]\n    X_test_single = X_test[[feature]]\n    \n    # Scale the feature\n    scaler = StandardScaler()\n    X_train_scaled = scaler.fit_transform(X_train_single)\n    X_test_scaled = scaler.transform(X_test_single)\n    \n    # Train Logistic Regression model\n    logreg = LogisticRegression(random_state=10)\n    logreg.fit(X_train_scaled, y_train)\n    \n    # Evaluate model\n    y_pred = logreg.predict(X_test_scaled)\n    accuracy = accuracy_score(y_test, y_pred)\n    \n    # Store the feature and its score\n    feature_scores[feature] = accuracy\n\nbest_feature = max(feature_scores, key=feature_scores.get)\nbest_score = feature_scores[best_feature]\n\n# Store in dictionary\nbest_predictive_feature = {best_feature: best_score}\n\nprint(\"Best predictive feature:\", best_predictive_feature)",
        "outputsMetadata": {
          "0": {
            "height": 38,
            "type": "stream"
          }
        },
        "id": "b706f466-77ee-4218-b91e-ca634bd752ea",
        "outputId": "49cf0db1-f897-4e00-c48e-383278c1e1b5"
      },
      "cell_type": "code",
      "id": "b706f466-77ee-4218-b91e-ca634bd752ea",
      "outputs": [
        {
          "output_type": "stream",
          "name": "stdout",
          "text": "Best predictive feature: {'K': 0.23333333333333334}\n"
        }
      ],
      "execution_count": null
    }
  ],
  "metadata": {
    "colab": {
      "provenance": [],
      "include_colab_link": true
    },
    "kernelspec": {
      "display_name": "Python 3 (ipykernel)",
      "language": "python",
      "name": "python3"
    },
    "language_info": {
      "codemirror_mode": {
        "name": "ipython",
        "version": 3
      },
      "file_extension": ".py",
      "mimetype": "text/x-python",
      "name": "python",
      "nbconvert_exporter": "python",
      "pygments_lexer": "ipython3",
      "version": "3.8.10"
    }
  },
  "nbformat": 4,
  "nbformat_minor": 5
}