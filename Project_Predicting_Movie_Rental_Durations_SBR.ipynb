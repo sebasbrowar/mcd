{
  "cells": [
    {
      "cell_type": "markdown",
      "metadata": {
        "id": "view-in-github",
        "colab_type": "text"
      },
      "source": [
        "<a href=\"https://colab.research.google.com/github/sebasbrowar/mcd/blob/main/Project_Predicting_Movie_Rental_Durations_SBR.ipynb\" target=\"_parent\"><img src=\"https://colab.research.google.com/assets/colab-badge.svg\" alt=\"Open In Colab\"/></a>"
      ]
    },
    {
      "source": [
        "![dvd_image](dvd_image.jpg)\n",
        "\n",
        "A DVD rental company needs your help! They want to figure out how many days a customer will rent a DVD for based on some features and has approached you for help. They want you to try out some regression models which will help predict the number of days a customer will rent a DVD for. The company wants a model which yeilds a MSE of 3 or less on a test set. The model you make will help the company become more efficient inventory planning.\n",
        "\n",
        "The data they provided is in the csv file `rental_info.csv`. It has the following features:\n",
        "- `\"rental_date\"`: The date (and time) the customer rents the DVD.\n",
        "- `\"return_date\"`: The date (and time) the customer returns the DVD.\n",
        "- `\"amount\"`: The amount paid by the customer for renting the DVD.\n",
        "- `\"amount_2\"`: The square of `\"amount\"`.\n",
        "- `\"rental_rate\"`: The rate at which the DVD is rented for.\n",
        "- `\"rental_rate_2\"`: The square of `\"rental_rate\"`.\n",
        "- `\"release_year\"`: The year the movie being rented was released.\n",
        "- `\"length\"`: Lenght of the movie being rented, in minuites.\n",
        "- `\"length_2\"`: The square of `\"length\"`.\n",
        "- `\"replacement_cost\"`: The amount it will cost the company to replace the DVD.\n",
        "- `\"special_features\"`: Any special features, for example trailers/deleted scenes that the DVD also has.\n",
        "- `\"NC-17\"`, `\"PG\"`, `\"PG-13\"`, `\"R\"`: These columns are dummy variables of the rating of the movie. It takes the value 1 if the move is rated as the column name and 0 otherwise. For your convinience, the reference dummy has already been dropped."
      ],
      "metadata": {
        "id": "b4ae5707-109f-4cd6-8168-88cac0179d6b"
      },
      "id": "b4ae5707-109f-4cd6-8168-88cac0179d6b",
      "cell_type": "markdown"
    },
    {
      "source": [
        "import pandas as pd\n",
        "import numpy as np\n",
        "\n",
        "from sklearn.model_selection import train_test_split\n",
        "from sklearn.metrics import mean_squared_error\n",
        "import re\n",
        "from sklearn.preprocessing import StandardScaler\n",
        "from sklearn.ensemble import RandomForestRegressor\n",
        "from sklearn.linear_model import LogisticRegression\n",
        "\n",
        "from sklearn.metrics import accuracy_score\n",
        "\n",
        "# Import any additional modules and start coding below"
      ],
      "metadata": {
        "executionCancelledAt": null,
        "executionTime": 8,
        "lastExecutedAt": 1742181217103,
        "lastScheduledRunId": null,
        "lastSuccessfullyExecutedCode": "import pandas as pd\nimport numpy as np\n\nfrom sklearn.model_selection import train_test_split\nfrom sklearn.metrics import mean_squared_error\nimport re\nfrom sklearn.preprocessing import StandardScaler\nfrom sklearn.ensemble import RandomForestRegressor\nfrom sklearn.linear_model import LogisticRegression\n\nfrom sklearn.metrics import accuracy_score\n\n# Import any additional modules and start coding below",
        "lastExecutedByKernel": "d1dc465e-409c-47ed-b41b-f1607df503a8",
        "id": "a7ede566-910a-445c-b11a-68d192ac8506"
      },
      "id": "a7ede566-910a-445c-b11a-68d192ac8506",
      "cell_type": "code",
      "execution_count": null,
      "outputs": []
    },
    {
      "source": [
        "df = pd.read_csv('rental_info.csv')\n",
        "df.head()"
      ],
      "metadata": {
        "executionCancelledAt": null,
        "executionTime": 66,
        "lastExecutedAt": 1742181217169,
        "lastExecutedByKernel": "d1dc465e-409c-47ed-b41b-f1607df503a8",
        "lastScheduledRunId": null,
        "lastSuccessfullyExecutedCode": "df = pd.read_csv('rental_info.csv')\ndf.head()",
        "outputsMetadata": {
          "0": {
            "height": 550,
            "type": "dataFrame",
            "tableState": {
              "quickFilterText": "",
              "customFilter": {
                "const": {
                  "type": "boolean",
                  "valid": true,
                  "value": true
                },
                "id": "999b5c0d-674e-4862-a92f-c110043aac3c",
                "nodeType": "const"
              }
            }
          }
        },
        "id": "cb59dca1-2d31-4d62-ae82-c1e7f5970f75",
        "outputId": "a4bf5f38-c673-4445-a04e-75f63a028b58"
      },
      "cell_type": "code",
      "id": "cb59dca1-2d31-4d62-ae82-c1e7f5970f75",
      "outputs": [
        {
          "output_type": "execute_result",
          "data": {
            "application/com.datacamp.data-table.v2+json": {
              "table": {
                "schema": {
                  "fields": [
                    {
                      "name": "index",
                      "type": "integer"
                    },
                    {
                      "name": "rental_date",
                      "type": "string"
                    },
                    {
                      "name": "return_date",
                      "type": "string"
                    },
                    {
                      "name": "amount",
                      "type": "number"
                    },
                    {
                      "name": "release_year",
                      "type": "number"
                    },
                    {
                      "name": "rental_rate",
                      "type": "number"
                    },
                    {
                      "name": "length",
                      "type": "number"
                    },
                    {
                      "name": "replacement_cost",
                      "type": "number"
                    },
                    {
                      "name": "special_features",
                      "type": "string"
                    },
                    {
                      "name": "NC-17",
                      "type": "integer"
                    },
                    {
                      "name": "PG",
                      "type": "integer"
                    },
                    {
                      "name": "PG-13",
                      "type": "integer"
                    },
                    {
                      "name": "R",
                      "type": "integer"
                    },
                    {
                      "name": "amount_2",
                      "type": "number"
                    },
                    {
                      "name": "length_2",
                      "type": "number"
                    },
                    {
                      "name": "rental_rate_2",
                      "type": "number"
                    }
                  ],
                  "primaryKey": [
                    "index"
                  ],
                  "pandas_version": "1.4.0"
                },
                "data": {
                  "index": [
                    0,
                    1,
                    2,
                    3,
                    4
                  ],
                  "rental_date": [
                    "2005-05-25 02:54:33+00:00",
                    "2005-06-15 23:19:16+00:00",
                    "2005-07-10 04:27:45+00:00",
                    "2005-07-31 12:06:41+00:00",
                    "2005-08-19 12:30:04+00:00"
                  ],
                  "return_date": [
                    "2005-05-28 23:40:33+00:00",
                    "2005-06-18 19:24:16+00:00",
                    "2005-07-17 10:11:45+00:00",
                    "2005-08-02 14:30:41+00:00",
                    "2005-08-23 13:35:04+00:00"
                  ],
                  "amount": [
                    2.99,
                    2.99,
                    2.99,
                    2.99,
                    2.99
                  ],
                  "release_year": [
                    2005,
                    2005,
                    2005,
                    2005,
                    2005
                  ],
                  "rental_rate": [
                    2.99,
                    2.99,
                    2.99,
                    2.99,
                    2.99
                  ],
                  "length": [
                    126,
                    126,
                    126,
                    126,
                    126
                  ],
                  "replacement_cost": [
                    16.99,
                    16.99,
                    16.99,
                    16.99,
                    16.99
                  ],
                  "special_features": [
                    "{Trailers,\"Behind the Scenes\"}",
                    "{Trailers,\"Behind the Scenes\"}",
                    "{Trailers,\"Behind the Scenes\"}",
                    "{Trailers,\"Behind the Scenes\"}",
                    "{Trailers,\"Behind the Scenes\"}"
                  ],
                  "NC-17": [
                    0,
                    0,
                    0,
                    0,
                    0
                  ],
                  "PG": [
                    0,
                    0,
                    0,
                    0,
                    0
                  ],
                  "PG-13": [
                    0,
                    0,
                    0,
                    0,
                    0
                  ],
                  "R": [
                    1,
                    1,
                    1,
                    1,
                    1
                  ],
                  "amount_2": [
                    8.9401,
                    8.9401,
                    8.9401,
                    8.9401,
                    8.9401
                  ],
                  "length_2": [
                    15876,
                    15876,
                    15876,
                    15876,
                    15876
                  ],
                  "rental_rate_2": [
                    8.9401,
                    8.9401,
                    8.9401,
                    8.9401,
                    8.9401
                  ]
                }
              },
              "total_rows": 5,
              "truncation_type": null
            },
            "text/plain": "                 rental_date  ... rental_rate_2\n0  2005-05-25 02:54:33+00:00  ...        8.9401\n1  2005-06-15 23:19:16+00:00  ...        8.9401\n2  2005-07-10 04:27:45+00:00  ...        8.9401\n3  2005-07-31 12:06:41+00:00  ...        8.9401\n4  2005-08-19 12:30:04+00:00  ...        8.9401\n\n[5 rows x 15 columns]",
            "text/html": "<div>\n<style scoped>\n    .dataframe tbody tr th:only-of-type {\n        vertical-align: middle;\n    }\n\n    .dataframe tbody tr th {\n        vertical-align: top;\n    }\n\n    .dataframe thead th {\n        text-align: right;\n    }\n</style>\n<table border=\"1\" class=\"dataframe\">\n  <thead>\n    <tr style=\"text-align: right;\">\n      <th></th>\n      <th>rental_date</th>\n      <th>return_date</th>\n      <th>amount</th>\n      <th>release_year</th>\n      <th>rental_rate</th>\n      <th>length</th>\n      <th>replacement_cost</th>\n      <th>special_features</th>\n      <th>NC-17</th>\n      <th>PG</th>\n      <th>PG-13</th>\n      <th>R</th>\n      <th>amount_2</th>\n      <th>length_2</th>\n      <th>rental_rate_2</th>\n    </tr>\n  </thead>\n  <tbody>\n    <tr>\n      <th>0</th>\n      <td>2005-05-25 02:54:33+00:00</td>\n      <td>2005-05-28 23:40:33+00:00</td>\n      <td>2.99</td>\n      <td>2005.0</td>\n      <td>2.99</td>\n      <td>126.0</td>\n      <td>16.99</td>\n      <td>{Trailers,\"Behind the Scenes\"}</td>\n      <td>0</td>\n      <td>0</td>\n      <td>0</td>\n      <td>1</td>\n      <td>8.9401</td>\n      <td>15876.0</td>\n      <td>8.9401</td>\n    </tr>\n    <tr>\n      <th>1</th>\n      <td>2005-06-15 23:19:16+00:00</td>\n      <td>2005-06-18 19:24:16+00:00</td>\n      <td>2.99</td>\n      <td>2005.0</td>\n      <td>2.99</td>\n      <td>126.0</td>\n      <td>16.99</td>\n      <td>{Trailers,\"Behind the Scenes\"}</td>\n      <td>0</td>\n      <td>0</td>\n      <td>0</td>\n      <td>1</td>\n      <td>8.9401</td>\n      <td>15876.0</td>\n      <td>8.9401</td>\n    </tr>\n    <tr>\n      <th>2</th>\n      <td>2005-07-10 04:27:45+00:00</td>\n      <td>2005-07-17 10:11:45+00:00</td>\n      <td>2.99</td>\n      <td>2005.0</td>\n      <td>2.99</td>\n      <td>126.0</td>\n      <td>16.99</td>\n      <td>{Trailers,\"Behind the Scenes\"}</td>\n      <td>0</td>\n      <td>0</td>\n      <td>0</td>\n      <td>1</td>\n      <td>8.9401</td>\n      <td>15876.0</td>\n      <td>8.9401</td>\n    </tr>\n    <tr>\n      <th>3</th>\n      <td>2005-07-31 12:06:41+00:00</td>\n      <td>2005-08-02 14:30:41+00:00</td>\n      <td>2.99</td>\n      <td>2005.0</td>\n      <td>2.99</td>\n      <td>126.0</td>\n      <td>16.99</td>\n      <td>{Trailers,\"Behind the Scenes\"}</td>\n      <td>0</td>\n      <td>0</td>\n      <td>0</td>\n      <td>1</td>\n      <td>8.9401</td>\n      <td>15876.0</td>\n      <td>8.9401</td>\n    </tr>\n    <tr>\n      <th>4</th>\n      <td>2005-08-19 12:30:04+00:00</td>\n      <td>2005-08-23 13:35:04+00:00</td>\n      <td>2.99</td>\n      <td>2005.0</td>\n      <td>2.99</td>\n      <td>126.0</td>\n      <td>16.99</td>\n      <td>{Trailers,\"Behind the Scenes\"}</td>\n      <td>0</td>\n      <td>0</td>\n      <td>0</td>\n      <td>1</td>\n      <td>8.9401</td>\n      <td>15876.0</td>\n      <td>8.9401</td>\n    </tr>\n  </tbody>\n</table>\n</div>"
          },
          "metadata": {
            "application/com.datacamp.data-table.v2+json": {
              "status": "success"
            }
          },
          "execution_count": 102
        }
      ],
      "execution_count": null
    },
    {
      "source": [
        "df['rental_date'] = pd.to_datetime(df['rental_date'])\n",
        "df['return_date'] = pd.to_datetime(df['return_date'])\n",
        "\n",
        "df['rental_length_days'] = (df['return_date'] - df['rental_date']).dt.days"
      ],
      "metadata": {
        "executionCancelledAt": null,
        "executionTime": 61,
        "lastExecutedAt": 1742181217230,
        "lastExecutedByKernel": "d1dc465e-409c-47ed-b41b-f1607df503a8",
        "lastScheduledRunId": null,
        "lastSuccessfullyExecutedCode": "df['rental_date'] = pd.to_datetime(df['rental_date'])\ndf['return_date'] = pd.to_datetime(df['return_date'])\n\ndf['rental_length_days'] = (df['return_date'] - df['rental_date']).dt.days",
        "outputsMetadata": {
          "0": {
            "height": 500,
            "type": "dataFrame",
            "tableState": {
              "quickFilterText": ""
            }
          }
        },
        "id": "ba6198bd-1b13-47c8-a7aa-65d0e32e9a5b"
      },
      "cell_type": "code",
      "id": "ba6198bd-1b13-47c8-a7aa-65d0e32e9a5b",
      "outputs": [],
      "execution_count": null
    },
    {
      "source": [
        "df.info()"
      ],
      "metadata": {
        "executionCancelledAt": null,
        "executionTime": 52,
        "lastExecutedAt": 1742181217282,
        "lastExecutedByKernel": "d1dc465e-409c-47ed-b41b-f1607df503a8",
        "lastScheduledRunId": null,
        "lastSuccessfullyExecutedCode": "df.info()",
        "outputsMetadata": {
          "0": {
            "height": 500,
            "type": "stream"
          }
        },
        "id": "14569fbc-3e5b-4bac-8df0-af384f152d35",
        "outputId": "dae05a6d-a1af-494b-a4ce-bd02aed12fa6"
      },
      "cell_type": "code",
      "id": "14569fbc-3e5b-4bac-8df0-af384f152d35",
      "outputs": [
        {
          "output_type": "stream",
          "name": "stdout",
          "text": "<class 'pandas.core.frame.DataFrame'>\nRangeIndex: 15861 entries, 0 to 15860\nData columns (total 16 columns):\n #   Column              Non-Null Count  Dtype              \n---  ------              --------------  -----              \n 0   rental_date         15861 non-null  datetime64[ns, UTC]\n 1   return_date         15861 non-null  datetime64[ns, UTC]\n 2   amount              15861 non-null  float64            \n 3   release_year        15861 non-null  float64            \n 4   rental_rate         15861 non-null  float64            \n 5   length              15861 non-null  float64            \n 6   replacement_cost    15861 non-null  float64            \n 7   special_features    15861 non-null  object             \n 8   NC-17               15861 non-null  int64              \n 9   PG                  15861 non-null  int64              \n 10  PG-13               15861 non-null  int64              \n 11  R                   15861 non-null  int64              \n 12  amount_2            15861 non-null  float64            \n 13  length_2            15861 non-null  float64            \n 14  rental_rate_2       15861 non-null  float64            \n 15  rental_length_days  15861 non-null  int64              \ndtypes: datetime64[ns, UTC](2), float64(8), int64(5), object(1)\nmemory usage: 1.9+ MB\n"
        }
      ],
      "execution_count": null
    },
    {
      "source": [
        "df['deleted_scenes'] = df['special_features'].str.contains(r'\\bDeleted Scenes\\b', regex=True).astype(int)\n",
        "df['behind_the_scenes'] = df['special_features'].str.contains(r'\\bBehind the Scenes\\b', regex=True).astype(int)\n",
        "df.head()"
      ],
      "metadata": {
        "executionCancelledAt": null,
        "executionTime": 52,
        "lastExecutedAt": 1742181217334,
        "lastExecutedByKernel": "d1dc465e-409c-47ed-b41b-f1607df503a8",
        "lastScheduledRunId": null,
        "lastSuccessfullyExecutedCode": "df['deleted_scenes'] = df['special_features'].str.contains(r'\\bDeleted Scenes\\b', regex=True).astype(int)\ndf['behind_the_scenes'] = df['special_features'].str.contains(r'\\bBehind the Scenes\\b', regex=True).astype(int)\ndf.head()",
        "outputsMetadata": {
          "0": {
            "height": 550,
            "type": "dataFrame",
            "tableState": {
              "quickFilterText": "",
              "customFilter": {
                "const": {
                  "type": "boolean",
                  "valid": true,
                  "value": true
                },
                "id": "999b5c0d-674e-4862-a92f-c110043aac3c",
                "nodeType": "const"
              }
            }
          }
        },
        "id": "d9a3b8e0-8471-41a9-89d7-ac6016006345",
        "outputId": "1a0a7768-68e8-4d14-cf96-0004f9a3a3cf"
      },
      "cell_type": "code",
      "id": "d9a3b8e0-8471-41a9-89d7-ac6016006345",
      "outputs": [
        {
          "output_type": "execute_result",
          "data": {
            "application/com.datacamp.data-table.v2+json": {
              "table": {
                "schema": {
                  "fields": [
                    {
                      "name": "index",
                      "type": "integer"
                    },
                    {
                      "name": "rental_date",
                      "type": "datetime",
                      "tz": "UTC"
                    },
                    {
                      "name": "return_date",
                      "type": "datetime",
                      "tz": "UTC"
                    },
                    {
                      "name": "amount",
                      "type": "number"
                    },
                    {
                      "name": "release_year",
                      "type": "number"
                    },
                    {
                      "name": "rental_rate",
                      "type": "number"
                    },
                    {
                      "name": "length",
                      "type": "number"
                    },
                    {
                      "name": "replacement_cost",
                      "type": "number"
                    },
                    {
                      "name": "special_features",
                      "type": "string"
                    },
                    {
                      "name": "NC-17",
                      "type": "integer"
                    },
                    {
                      "name": "PG",
                      "type": "integer"
                    },
                    {
                      "name": "PG-13",
                      "type": "integer"
                    },
                    {
                      "name": "R",
                      "type": "integer"
                    },
                    {
                      "name": "amount_2",
                      "type": "number"
                    },
                    {
                      "name": "length_2",
                      "type": "number"
                    },
                    {
                      "name": "rental_rate_2",
                      "type": "number"
                    },
                    {
                      "name": "rental_length_days",
                      "type": "integer"
                    },
                    {
                      "name": "deleted_scenes",
                      "type": "integer"
                    },
                    {
                      "name": "behind_the_scenes",
                      "type": "integer"
                    }
                  ],
                  "primaryKey": [
                    "index"
                  ],
                  "pandas_version": "1.4.0"
                },
                "data": {
                  "index": [
                    0,
                    1,
                    2,
                    3,
                    4
                  ],
                  "rental_date": [
                    "2005-05-25T02:54:33.000",
                    "2005-06-15T23:19:16.000",
                    "2005-07-10T04:27:45.000",
                    "2005-07-31T12:06:41.000",
                    "2005-08-19T12:30:04.000"
                  ],
                  "return_date": [
                    "2005-05-28T23:40:33.000",
                    "2005-06-18T19:24:16.000",
                    "2005-07-17T10:11:45.000",
                    "2005-08-02T14:30:41.000",
                    "2005-08-23T13:35:04.000"
                  ],
                  "amount": [
                    2.99,
                    2.99,
                    2.99,
                    2.99,
                    2.99
                  ],
                  "release_year": [
                    2005,
                    2005,
                    2005,
                    2005,
                    2005
                  ],
                  "rental_rate": [
                    2.99,
                    2.99,
                    2.99,
                    2.99,
                    2.99
                  ],
                  "length": [
                    126,
                    126,
                    126,
                    126,
                    126
                  ],
                  "replacement_cost": [
                    16.99,
                    16.99,
                    16.99,
                    16.99,
                    16.99
                  ],
                  "special_features": [
                    "{Trailers,\"Behind the Scenes\"}",
                    "{Trailers,\"Behind the Scenes\"}",
                    "{Trailers,\"Behind the Scenes\"}",
                    "{Trailers,\"Behind the Scenes\"}",
                    "{Trailers,\"Behind the Scenes\"}"
                  ],
                  "NC-17": [
                    0,
                    0,
                    0,
                    0,
                    0
                  ],
                  "PG": [
                    0,
                    0,
                    0,
                    0,
                    0
                  ],
                  "PG-13": [
                    0,
                    0,
                    0,
                    0,
                    0
                  ],
                  "R": [
                    1,
                    1,
                    1,
                    1,
                    1
                  ],
                  "amount_2": [
                    8.9401,
                    8.9401,
                    8.9401,
                    8.9401,
                    8.9401
                  ],
                  "length_2": [
                    15876,
                    15876,
                    15876,
                    15876,
                    15876
                  ],
                  "rental_rate_2": [
                    8.9401,
                    8.9401,
                    8.9401,
                    8.9401,
                    8.9401
                  ],
                  "rental_length_days": [
                    3,
                    2,
                    7,
                    2,
                    4
                  ],
                  "deleted_scenes": [
                    0,
                    0,
                    0,
                    0,
                    0
                  ],
                  "behind_the_scenes": [
                    1,
                    1,
                    1,
                    1,
                    1
                  ]
                }
              },
              "total_rows": 5,
              "truncation_type": null
            },
            "text/plain": "                rental_date  ... behind_the_scenes\n0 2005-05-25 02:54:33+00:00  ...                 1\n1 2005-06-15 23:19:16+00:00  ...                 1\n2 2005-07-10 04:27:45+00:00  ...                 1\n3 2005-07-31 12:06:41+00:00  ...                 1\n4 2005-08-19 12:30:04+00:00  ...                 1\n\n[5 rows x 18 columns]",
            "text/html": "<div>\n<style scoped>\n    .dataframe tbody tr th:only-of-type {\n        vertical-align: middle;\n    }\n\n    .dataframe tbody tr th {\n        vertical-align: top;\n    }\n\n    .dataframe thead th {\n        text-align: right;\n    }\n</style>\n<table border=\"1\" class=\"dataframe\">\n  <thead>\n    <tr style=\"text-align: right;\">\n      <th></th>\n      <th>rental_date</th>\n      <th>return_date</th>\n      <th>amount</th>\n      <th>release_year</th>\n      <th>rental_rate</th>\n      <th>length</th>\n      <th>replacement_cost</th>\n      <th>special_features</th>\n      <th>NC-17</th>\n      <th>PG</th>\n      <th>PG-13</th>\n      <th>R</th>\n      <th>amount_2</th>\n      <th>length_2</th>\n      <th>rental_rate_2</th>\n      <th>rental_length_days</th>\n      <th>deleted_scenes</th>\n      <th>behind_the_scenes</th>\n    </tr>\n  </thead>\n  <tbody>\n    <tr>\n      <th>0</th>\n      <td>2005-05-25 02:54:33+00:00</td>\n      <td>2005-05-28 23:40:33+00:00</td>\n      <td>2.99</td>\n      <td>2005.0</td>\n      <td>2.99</td>\n      <td>126.0</td>\n      <td>16.99</td>\n      <td>{Trailers,\"Behind the Scenes\"}</td>\n      <td>0</td>\n      <td>0</td>\n      <td>0</td>\n      <td>1</td>\n      <td>8.9401</td>\n      <td>15876.0</td>\n      <td>8.9401</td>\n      <td>3</td>\n      <td>0</td>\n      <td>1</td>\n    </tr>\n    <tr>\n      <th>1</th>\n      <td>2005-06-15 23:19:16+00:00</td>\n      <td>2005-06-18 19:24:16+00:00</td>\n      <td>2.99</td>\n      <td>2005.0</td>\n      <td>2.99</td>\n      <td>126.0</td>\n      <td>16.99</td>\n      <td>{Trailers,\"Behind the Scenes\"}</td>\n      <td>0</td>\n      <td>0</td>\n      <td>0</td>\n      <td>1</td>\n      <td>8.9401</td>\n      <td>15876.0</td>\n      <td>8.9401</td>\n      <td>2</td>\n      <td>0</td>\n      <td>1</td>\n    </tr>\n    <tr>\n      <th>2</th>\n      <td>2005-07-10 04:27:45+00:00</td>\n      <td>2005-07-17 10:11:45+00:00</td>\n      <td>2.99</td>\n      <td>2005.0</td>\n      <td>2.99</td>\n      <td>126.0</td>\n      <td>16.99</td>\n      <td>{Trailers,\"Behind the Scenes\"}</td>\n      <td>0</td>\n      <td>0</td>\n      <td>0</td>\n      <td>1</td>\n      <td>8.9401</td>\n      <td>15876.0</td>\n      <td>8.9401</td>\n      <td>7</td>\n      <td>0</td>\n      <td>1</td>\n    </tr>\n    <tr>\n      <th>3</th>\n      <td>2005-07-31 12:06:41+00:00</td>\n      <td>2005-08-02 14:30:41+00:00</td>\n      <td>2.99</td>\n      <td>2005.0</td>\n      <td>2.99</td>\n      <td>126.0</td>\n      <td>16.99</td>\n      <td>{Trailers,\"Behind the Scenes\"}</td>\n      <td>0</td>\n      <td>0</td>\n      <td>0</td>\n      <td>1</td>\n      <td>8.9401</td>\n      <td>15876.0</td>\n      <td>8.9401</td>\n      <td>2</td>\n      <td>0</td>\n      <td>1</td>\n    </tr>\n    <tr>\n      <th>4</th>\n      <td>2005-08-19 12:30:04+00:00</td>\n      <td>2005-08-23 13:35:04+00:00</td>\n      <td>2.99</td>\n      <td>2005.0</td>\n      <td>2.99</td>\n      <td>126.0</td>\n      <td>16.99</td>\n      <td>{Trailers,\"Behind the Scenes\"}</td>\n      <td>0</td>\n      <td>0</td>\n      <td>0</td>\n      <td>1</td>\n      <td>8.9401</td>\n      <td>15876.0</td>\n      <td>8.9401</td>\n      <td>4</td>\n      <td>0</td>\n      <td>1</td>\n    </tr>\n  </tbody>\n</table>\n</div>"
          },
          "metadata": {
            "application/com.datacamp.data-table.v2+json": {
              "status": "success"
            }
          },
          "execution_count": 105
        }
      ],
      "execution_count": null
    },
    {
      "source": [
        "cols_to_keep = ['amount', 'release_year', 'rental_rate', 'length', 'replacement_cost', 'NC-17', 'PG', 'PG-13', 'R', 'amount_2', 'length_2', 'rental_rate_2', 'deleted_scenes', 'behind_the_scenes']\n",
        "\n",
        "X = df[cols_to_keep]\n",
        "y = df['rental_length_days']"
      ],
      "metadata": {
        "executionCancelledAt": null,
        "executionTime": 48,
        "lastExecutedAt": 1742181217382,
        "lastExecutedByKernel": "d1dc465e-409c-47ed-b41b-f1607df503a8",
        "lastScheduledRunId": null,
        "lastSuccessfullyExecutedCode": "cols_to_keep = ['amount', 'release_year', 'rental_rate', 'length', 'replacement_cost', 'NC-17', 'PG', 'PG-13', 'R', 'amount_2', 'length_2', 'rental_rate_2', 'deleted_scenes', 'behind_the_scenes']\n\nX = df[cols_to_keep]\ny = df['rental_length_days']",
        "id": "15ae20cb-3ead-43fb-850a-640be0794e47"
      },
      "cell_type": "code",
      "id": "15ae20cb-3ead-43fb-850a-640be0794e47",
      "outputs": [],
      "execution_count": null
    },
    {
      "source": [
        "X_train, X_test, y_train, y_test = train_test_split(X, y, test_size=.2, random_state=9)"
      ],
      "cell_type": "code",
      "id": "47ec8c3d-3ecd-49e3-b158-ae2e3c625c64",
      "outputs": [],
      "metadata": {
        "executionCancelledAt": null,
        "executionTime": 49,
        "lastExecutedAt": 1742181217431,
        "lastExecutedByKernel": "d1dc465e-409c-47ed-b41b-f1607df503a8",
        "lastScheduledRunId": null,
        "lastSuccessfullyExecutedCode": "X_train, X_test, y_train, y_test = train_test_split(X, y, test_size=.2, random_state=9)",
        "id": "47ec8c3d-3ecd-49e3-b158-ae2e3c625c64"
      },
      "execution_count": null
    },
    {
      "source": [
        "# Instantiate a StandardScaler\n",
        "scaler = StandardScaler()\n",
        "\n",
        "# Scale the training and test features\n",
        "X_train_scaled = scaler.fit_transform(X_train)\n",
        "X_test_scaled = scaler.transform(X_test)"
      ],
      "metadata": {
        "executionCancelledAt": null,
        "executionTime": 49,
        "lastExecutedAt": 1742181217482,
        "lastExecutedByKernel": "d1dc465e-409c-47ed-b41b-f1607df503a8",
        "lastScheduledRunId": null,
        "lastSuccessfullyExecutedCode": "# Instantiate a StandardScaler\nscaler = StandardScaler()\n\n# Scale the training and test features\nX_train_scaled = scaler.fit_transform(X_train)\nX_test_scaled = scaler.transform(X_test)",
        "id": "d30e2cf4-2db2-451c-8b34-cae5c20e3115"
      },
      "cell_type": "code",
      "id": "d30e2cf4-2db2-451c-8b34-cae5c20e3115",
      "outputs": [],
      "execution_count": null
    },
    {
      "source": [
        "best_model = RandomForestRegressor(n_estimators=100, random_state=9)\n",
        "\n",
        "best_model.fit(X_train_scaled, y_train)\n",
        "y_pred = best_model.predict(X_test_scaled)\n",
        "\n",
        "best_mse = mean_squared_error(y_test, y_pred)"
      ],
      "metadata": {
        "executionCancelledAt": null,
        "executionTime": 2458,
        "lastExecutedAt": 1742181219942,
        "lastExecutedByKernel": "d1dc465e-409c-47ed-b41b-f1607df503a8",
        "lastScheduledRunId": null,
        "lastSuccessfullyExecutedCode": "best_model = RandomForestRegressor(n_estimators=100, random_state=9)\n\nbest_model.fit(X_train_scaled, y_train)\ny_pred = best_model.predict(X_test_scaled)\n\nbest_mse = mean_squared_error(y_test, y_pred)",
        "id": "10fa86d1-4ba7-4d1a-bc26-4bd94839c8bb"
      },
      "cell_type": "code",
      "id": "10fa86d1-4ba7-4d1a-bc26-4bd94839c8bb",
      "outputs": [],
      "execution_count": null
    },
    {
      "source": [
        "print(best_model)\n",
        "print(best_mse)"
      ],
      "metadata": {
        "executionCancelledAt": null,
        "executionTime": 50,
        "lastExecutedAt": 1742181219994,
        "lastExecutedByKernel": "d1dc465e-409c-47ed-b41b-f1607df503a8",
        "lastScheduledRunId": null,
        "lastSuccessfullyExecutedCode": "print(best_model)\nprint(best_mse)",
        "outputsMetadata": {
          "0": {
            "height": 59,
            "type": "stream"
          }
        },
        "id": "110320da-810a-427f-9049-552427341f1a",
        "outputId": "5ff773a2-12e3-453a-9c59-c98cbe3d8326"
      },
      "cell_type": "code",
      "id": "110320da-810a-427f-9049-552427341f1a",
      "outputs": [
        {
          "output_type": "stream",
          "name": "stdout",
          "text": "RandomForestRegressor(random_state=9)\n2.0305235428385586\n"
        }
      ],
      "execution_count": null
    }
  ],
  "metadata": {
    "colab": {
      "provenance": [],
      "include_colab_link": true
    },
    "kernelspec": {
      "display_name": "Python 3 (ipykernel)",
      "language": "python",
      "name": "python3"
    },
    "language_info": {
      "name": "python",
      "version": "3.10.12",
      "mimetype": "text/x-python",
      "codemirror_mode": {
        "name": "ipython",
        "version": 3
      },
      "pygments_lexer": "ipython3",
      "nbconvert_exporter": "python",
      "file_extension": ".py"
    },
    "editor": "DataLab"
  },
  "nbformat": 4,
  "nbformat_minor": 5
}